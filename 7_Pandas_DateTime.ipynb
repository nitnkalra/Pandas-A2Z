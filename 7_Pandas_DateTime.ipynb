{
  "nbformat": 4,
  "nbformat_minor": 0,
  "metadata": {
    "colab": {
      "provenance": [],
      "collapsed_sections": [
        "mwSnNqntYSg1",
        "cTnwGQzTIu9H"
      ]
    },
    "kernelspec": {
      "name": "python3",
      "display_name": "Python 3"
    },
    "language_info": {
      "name": "python"
    }
  },
  "cells": [
    {
      "cell_type": "code",
      "execution_count": 2,
      "metadata": {
        "id": "HKas9_GkYAQl"
      },
      "outputs": [],
      "source": [
        "import pandas as pd\n",
        "import numpy as np"
      ]
    },
    {
      "cell_type": "markdown",
      "source": [
        "#timestamp object\n",
        "\n",
        "- timestamp refer particular momemts in time\n",
        "- for ex - \"26Jan1990 1:21pm\""
      ],
      "metadata": {
        "id": "mwSnNqntYSg1"
      }
    },
    {
      "cell_type": "code",
      "source": [
        "pd.Timestamp('2023/1/26')"
      ],
      "metadata": {
        "colab": {
          "base_uri": "https://localhost:8080/"
        },
        "id": "qYZWtCwpYMGW",
        "outputId": "b9aeff8a-d98d-4388-baf1-3bdb2de8d36c"
      },
      "execution_count": 3,
      "outputs": [
        {
          "output_type": "execute_result",
          "data": {
            "text/plain": [
              "Timestamp('2023-01-26 00:00:00')"
            ]
          },
          "metadata": {},
          "execution_count": 3
        }
      ]
    },
    {
      "cell_type": "code",
      "source": [
        "type(pd.Timestamp('2023/1/26'))"
      ],
      "metadata": {
        "colab": {
          "base_uri": "https://localhost:8080/"
        },
        "id": "juto_dkiHXKf",
        "outputId": "3598f5e4-2d11-430c-ca6e-16041979d234"
      },
      "execution_count": 4,
      "outputs": [
        {
          "output_type": "execute_result",
          "data": {
            "text/plain": [
              "pandas._libs.tslibs.timestamps.Timestamp"
            ]
          },
          "metadata": {},
          "execution_count": 4
        }
      ]
    },
    {
      "cell_type": "code",
      "source": [
        "#variations\n",
        "\n",
        "pd.Timestamp('2023-1-26')"
      ],
      "metadata": {
        "colab": {
          "base_uri": "https://localhost:8080/"
        },
        "id": "LCcAWXcqILDt",
        "outputId": "8b829241-311b-4894-b701-d48fd095c8eb"
      },
      "execution_count": 5,
      "outputs": [
        {
          "output_type": "execute_result",
          "data": {
            "text/plain": [
              "Timestamp('2023-01-26 00:00:00')"
            ]
          },
          "metadata": {},
          "execution_count": 5
        }
      ]
    },
    {
      "cell_type": "code",
      "source": [
        "pd.Timestamp('2023, 01, 26')"
      ],
      "metadata": {
        "colab": {
          "base_uri": "https://localhost:8080/"
        },
        "id": "m_pz03EKIPXT",
        "outputId": "b14bff15-24ad-44bc-bba3-630f86a6eb3b"
      },
      "execution_count": 7,
      "outputs": [
        {
          "output_type": "execute_result",
          "data": {
            "text/plain": [
              "Timestamp('2023-01-26 00:00:00')"
            ]
          },
          "metadata": {},
          "execution_count": 7
        }
      ]
    },
    {
      "cell_type": "code",
      "source": [
        "pd.Timestamp('5th Jan 2023')"
      ],
      "metadata": {
        "colab": {
          "base_uri": "https://localhost:8080/"
        },
        "id": "3D7lomD1ITgD",
        "outputId": "fa563183-b2ef-4fb4-ac9e-cf47ef74f6b8"
      },
      "execution_count": 8,
      "outputs": [
        {
          "output_type": "execute_result",
          "data": {
            "text/plain": [
              "Timestamp('2023-01-05 00:00:00')"
            ]
          },
          "metadata": {},
          "execution_count": 8
        }
      ]
    },
    {
      "cell_type": "code",
      "source": [
        "pd.Timestamp('2023-1-26 09-21')"
      ],
      "metadata": {
        "colab": {
          "base_uri": "https://localhost:8080/"
        },
        "id": "IMaf9WTNIaDt",
        "outputId": "7d5bc614-a69f-4aa3-a5c0-9954582b6633"
      },
      "execution_count": 10,
      "outputs": [
        {
          "output_type": "execute_result",
          "data": {
            "text/plain": [
              "Timestamp('2023-01-26 09:00:00-2100', tz='pytz.FixedOffset(-1260)')"
            ]
          },
          "metadata": {},
          "execution_count": 10
        }
      ]
    },
    {
      "cell_type": "markdown",
      "source": [
        "#python datetime object"
      ],
      "metadata": {
        "id": "cTnwGQzTIu9H"
      }
    },
    {
      "cell_type": "code",
      "source": [
        "import datetime as dt"
      ],
      "metadata": {
        "id": "-Ll75DDGIerl"
      },
      "execution_count": 11,
      "outputs": []
    },
    {
      "cell_type": "code",
      "source": [
        "dt.datetime(2023, 1, 26, 9, 21)"
      ],
      "metadata": {
        "colab": {
          "base_uri": "https://localhost:8080/"
        },
        "id": "LVvlWwLAIyT4",
        "outputId": "ab1c0e2a-473f-42ce-fcb7-59834b03aba9"
      },
      "execution_count": 18,
      "outputs": [
        {
          "output_type": "execute_result",
          "data": {
            "text/plain": [
              "datetime.datetime(2023, 1, 26, 9, 21)"
            ]
          },
          "metadata": {},
          "execution_count": 18
        }
      ]
    },
    {
      "cell_type": "code",
      "source": [
        "#fetching attributes\n",
        "\n",
        "x = dt.datetime(2023, 1, 26, 9, 21)\n",
        "\n",
        "print(x.year)\n",
        "print(x.month)\n",
        "print(x.day)\n",
        "print(x.hour)\n",
        "print(x.minute)"
      ],
      "metadata": {
        "colab": {
          "base_uri": "https://localhost:8080/"
        },
        "id": "HD6CgsoQI15E",
        "outputId": "8e3674c6-4f8c-4a0f-acf9-3ab8fa018602"
      },
      "execution_count": 21,
      "outputs": [
        {
          "output_type": "stream",
          "name": "stdout",
          "text": [
            "2023\n",
            "1\n",
            "26\n",
            "9\n",
            "21\n"
          ]
        }
      ]
    },
    {
      "cell_type": "markdown",
      "source": [
        "## If datetime is available in python why seperate datetime in pandas?\n",
        "\n",
        "- Even though python datetime is convinient, Its slow while working huge dateset unlike pandas datetime which is built on numpy & numpy built on c which is a compiled language, it executes faster"
      ],
      "metadata": {
        "id": "dbwAP9KIJs2z"
      }
    },
    {
      "cell_type": "code",
      "source": [
        "date = np.array('2023-01-26',dtype = np.datetime64)\n",
        "date + np.arange(120)"
      ],
      "metadata": {
        "colab": {
          "base_uri": "https://localhost:8080/"
        },
        "id": "cc-lyWesJgCv",
        "outputId": "b5d097aa-32d1-4853-ff1e-f3b6facd504d"
      },
      "execution_count": 23,
      "outputs": [
        {
          "output_type": "execute_result",
          "data": {
            "text/plain": [
              "array(['2023-01-26', '2023-01-27', '2023-01-28', '2023-01-29',\n",
              "       '2023-01-30', '2023-01-31', '2023-02-01', '2023-02-02',\n",
              "       '2023-02-03', '2023-02-04', '2023-02-05', '2023-02-06',\n",
              "       '2023-02-07', '2023-02-08', '2023-02-09', '2023-02-10',\n",
              "       '2023-02-11', '2023-02-12', '2023-02-13', '2023-02-14',\n",
              "       '2023-02-15', '2023-02-16', '2023-02-17', '2023-02-18',\n",
              "       '2023-02-19', '2023-02-20', '2023-02-21', '2023-02-22',\n",
              "       '2023-02-23', '2023-02-24', '2023-02-25', '2023-02-26',\n",
              "       '2023-02-27', '2023-02-28', '2023-03-01', '2023-03-02',\n",
              "       '2023-03-03', '2023-03-04', '2023-03-05', '2023-03-06',\n",
              "       '2023-03-07', '2023-03-08', '2023-03-09', '2023-03-10',\n",
              "       '2023-03-11', '2023-03-12', '2023-03-13', '2023-03-14',\n",
              "       '2023-03-15', '2023-03-16', '2023-03-17', '2023-03-18',\n",
              "       '2023-03-19', '2023-03-20', '2023-03-21', '2023-03-22',\n",
              "       '2023-03-23', '2023-03-24', '2023-03-25', '2023-03-26',\n",
              "       '2023-03-27', '2023-03-28', '2023-03-29', '2023-03-30',\n",
              "       '2023-03-31', '2023-04-01', '2023-04-02', '2023-04-03',\n",
              "       '2023-04-04', '2023-04-05', '2023-04-06', '2023-04-07',\n",
              "       '2023-04-08', '2023-04-09', '2023-04-10', '2023-04-11',\n",
              "       '2023-04-12', '2023-04-13', '2023-04-14', '2023-04-15',\n",
              "       '2023-04-16', '2023-04-17', '2023-04-18', '2023-04-19',\n",
              "       '2023-04-20', '2023-04-21', '2023-04-22', '2023-04-23',\n",
              "       '2023-04-24', '2023-04-25', '2023-04-26', '2023-04-27',\n",
              "       '2023-04-28', '2023-04-29', '2023-04-30', '2023-05-01',\n",
              "       '2023-05-02', '2023-05-03', '2023-05-04', '2023-05-05',\n",
              "       '2023-05-06', '2023-05-07', '2023-05-08', '2023-05-09',\n",
              "       '2023-05-10', '2023-05-11', '2023-05-12', '2023-05-13',\n",
              "       '2023-05-14', '2023-05-15', '2023-05-16', '2023-05-17',\n",
              "       '2023-05-18', '2023-05-19', '2023-05-20', '2023-05-21',\n",
              "       '2023-05-22', '2023-05-23', '2023-05-24', '2023-05-25'],\n",
              "      dtype='datetime64[D]')"
            ]
          },
          "metadata": {},
          "execution_count": 23
        }
      ]
    },
    {
      "cell_type": "markdown",
      "source": [
        "#datetime index (collection of pandas datettime)"
      ],
      "metadata": {
        "id": "3Y2DBhi2Qf1i"
      }
    },
    {
      "cell_type": "code",
      "source": [
        "#from string\n",
        "\n",
        "pd.DatetimeIndex(['2023/1/1','2023/1/2','2023/1/3'])"
      ],
      "metadata": {
        "colab": {
          "base_uri": "https://localhost:8080/"
        },
        "id": "ZmXKRXU4QK9o",
        "outputId": "8abec0ae-2242-4a69-a3ea-948a408cc873"
      },
      "execution_count": 26,
      "outputs": [
        {
          "output_type": "execute_result",
          "data": {
            "text/plain": [
              "DatetimeIndex(['2023-01-01', '2023-01-02', '2023-01-03'], dtype='datetime64[ns]', freq=None)"
            ]
          },
          "metadata": {},
          "execution_count": 26
        }
      ]
    },
    {
      "cell_type": "code",
      "source": [
        "pd.DatetimeIndex(['2023/1/1','2023/1/2','2023/1/3'])[0]"
      ],
      "metadata": {
        "colab": {
          "base_uri": "https://localhost:8080/"
        },
        "id": "lze9JV33Qz6a",
        "outputId": "6685ab87-47ff-4627-a480-6b9141ff329b"
      },
      "execution_count": 27,
      "outputs": [
        {
          "output_type": "execute_result",
          "data": {
            "text/plain": [
              "Timestamp('2023-01-01 00:00:00')"
            ]
          },
          "metadata": {},
          "execution_count": 27
        }
      ]
    },
    {
      "cell_type": "markdown",
      "source": [
        "##single is a timestamp object & collection of timestamp is datetimeindex"
      ],
      "metadata": {
        "id": "IiDLL0dNRQ7p"
      }
    },
    {
      "cell_type": "code",
      "source": [
        "type(pd.DatetimeIndex(['2023/1/1','2023/1/2','2023/1/3'])[0])"
      ],
      "metadata": {
        "colab": {
          "base_uri": "https://localhost:8080/"
        },
        "id": "AU_s9_4XRLev",
        "outputId": "17781079-7c91-4d0f-f6af-e3a6eb3c8b9f"
      },
      "execution_count": 28,
      "outputs": [
        {
          "output_type": "execute_result",
          "data": {
            "text/plain": [
              "pandas._libs.tslibs.timestamps.Timestamp"
            ]
          },
          "metadata": {},
          "execution_count": 28
        }
      ]
    },
    {
      "cell_type": "code",
      "source": [
        "type(pd.DatetimeIndex(['2023/1/1','2023/1/2','2023/1/3']))"
      ],
      "metadata": {
        "colab": {
          "base_uri": "https://localhost:8080/"
        },
        "id": "QTKdo6jIRN6Z",
        "outputId": "4331c2eb-f0da-4f92-f686-73e3268dd3a5"
      },
      "execution_count": 29,
      "outputs": [
        {
          "output_type": "execute_result",
          "data": {
            "text/plain": [
              "pandas.core.indexes.datetimes.DatetimeIndex"
            ]
          },
          "metadata": {},
          "execution_count": 29
        }
      ]
    },
    {
      "cell_type": "code",
      "source": [
        "#using python datetime\n",
        "pd.DatetimeIndex([dt.datetime(2023, 1, 1), dt.datetime(2023, 1, 2)])"
      ],
      "metadata": {
        "colab": {
          "base_uri": "https://localhost:8080/"
        },
        "id": "ryAo53nbRP1v",
        "outputId": "ad06a1cd-3225-43d2-c54a-714b4f958eb8"
      },
      "execution_count": 31,
      "outputs": [
        {
          "output_type": "execute_result",
          "data": {
            "text/plain": [
              "DatetimeIndex(['2023-01-01', '2023-01-02'], dtype='datetime64[ns]', freq=None)"
            ]
          },
          "metadata": {},
          "execution_count": 31
        }
      ]
    },
    {
      "cell_type": "code",
      "source": [
        "#using timestamps\n",
        "\n",
        "pd.DatetimeIndex([pd.Timestamp(2023, 1, 1), pd.Timestamp(2023, 1, 2)])"
      ],
      "metadata": {
        "colab": {
          "base_uri": "https://localhost:8080/"
        },
        "id": "MG1qc3jPRquX",
        "outputId": "73eec318-6dfa-4bd3-ecd3-45a1c433b310"
      },
      "execution_count": 32,
      "outputs": [
        {
          "output_type": "execute_result",
          "data": {
            "text/plain": [
              "DatetimeIndex(['2023-01-01', '2023-01-02'], dtype='datetime64[ns]', freq=None)"
            ]
          },
          "metadata": {},
          "execution_count": 32
        }
      ]
    },
    {
      "cell_type": "code",
      "source": [
        "#using datetime index as series index\n",
        "\n",
        "dt_index = pd.DatetimeIndex([pd.Timestamp(2023, 1, 1), pd.Timestamp(2023, 1, 2)])\n",
        "pd.Series(['amar','akbar'],index = dt_index)"
      ],
      "metadata": {
        "colab": {
          "base_uri": "https://localhost:8080/"
        },
        "id": "7AVCu2E9SD27",
        "outputId": "5a06a513-a501-448e-d798-1411c2585e91"
      },
      "execution_count": 35,
      "outputs": [
        {
          "output_type": "execute_result",
          "data": {
            "text/plain": [
              "2023-01-01     amar\n",
              "2023-01-02    akbar\n",
              "dtype: object"
            ]
          },
          "metadata": {},
          "execution_count": 35
        }
      ]
    },
    {
      "cell_type": "markdown",
      "source": [
        "#date range function"
      ],
      "metadata": {
        "id": "mf5o6cUxSnj0"
      }
    },
    {
      "cell_type": "code",
      "source": [
        "pd.date_range(start = '2023/2/1', end='2023/2/28', freq = 'D')"
      ],
      "metadata": {
        "colab": {
          "base_uri": "https://localhost:8080/"
        },
        "id": "7StrDIFkSnRM",
        "outputId": "bbf3e66e-15d8-48d1-8a97-b73bb95fa076"
      },
      "execution_count": 38,
      "outputs": [
        {
          "output_type": "execute_result",
          "data": {
            "text/plain": [
              "DatetimeIndex(['2023-02-01', '2023-02-02', '2023-02-03', '2023-02-04',\n",
              "               '2023-02-05', '2023-02-06', '2023-02-07', '2023-02-08',\n",
              "               '2023-02-09', '2023-02-10', '2023-02-11', '2023-02-12',\n",
              "               '2023-02-13', '2023-02-14', '2023-02-15', '2023-02-16',\n",
              "               '2023-02-17', '2023-02-18', '2023-02-19', '2023-02-20',\n",
              "               '2023-02-21', '2023-02-22', '2023-02-23', '2023-02-24',\n",
              "               '2023-02-25', '2023-02-26', '2023-02-27', '2023-02-28'],\n",
              "              dtype='datetime64[ns]', freq='D')"
            ]
          },
          "metadata": {},
          "execution_count": 38
        }
      ]
    },
    {
      "cell_type": "code",
      "source": [
        "#alternate days\n",
        "pd.date_range(start = '2023/2/1', end='2023/2/28', freq = '2D')"
      ],
      "metadata": {
        "colab": {
          "base_uri": "https://localhost:8080/"
        },
        "id": "FLUcc4deSTsC",
        "outputId": "ba1388ee-2054-4dec-a965-6b87e0bfc8c2"
      },
      "execution_count": 40,
      "outputs": [
        {
          "output_type": "execute_result",
          "data": {
            "text/plain": [
              "DatetimeIndex(['2023-02-01', '2023-02-03', '2023-02-05', '2023-02-07',\n",
              "               '2023-02-09', '2023-02-11', '2023-02-13', '2023-02-15',\n",
              "               '2023-02-17', '2023-02-19', '2023-02-21', '2023-02-23',\n",
              "               '2023-02-25', '2023-02-27'],\n",
              "              dtype='datetime64[ns]', freq='2D')"
            ]
          },
          "metadata": {},
          "execution_count": 40
        }
      ]
    },
    {
      "cell_type": "code",
      "source": [
        "#business days\n",
        "pd.date_range(start = '2023/2/1', end='2023/2/28', freq = 'B')"
      ],
      "metadata": {
        "colab": {
          "base_uri": "https://localhost:8080/"
        },
        "id": "AlH-jG7_TBYt",
        "outputId": "aa4ee86f-934c-46e2-ca67-f367e5872379"
      },
      "execution_count": 41,
      "outputs": [
        {
          "output_type": "execute_result",
          "data": {
            "text/plain": [
              "DatetimeIndex(['2023-02-01', '2023-02-02', '2023-02-03', '2023-02-06',\n",
              "               '2023-02-07', '2023-02-08', '2023-02-09', '2023-02-10',\n",
              "               '2023-02-13', '2023-02-14', '2023-02-15', '2023-02-16',\n",
              "               '2023-02-17', '2023-02-20', '2023-02-21', '2023-02-22',\n",
              "               '2023-02-23', '2023-02-24', '2023-02-27', '2023-02-28'],\n",
              "              dtype='datetime64[ns]', freq='B')"
            ]
          },
          "metadata": {},
          "execution_count": 41
        }
      ]
    },
    {
      "cell_type": "code",
      "source": [
        "#one week per day\n",
        "pd.date_range(start = '2023/2/1', end='2023/2/28', freq = 'W-Thu')"
      ],
      "metadata": {
        "colab": {
          "base_uri": "https://localhost:8080/"
        },
        "id": "mrSNWTL-TKAa",
        "outputId": "869b27e3-e2b2-49f0-d2f7-18d232990b24"
      },
      "execution_count": 43,
      "outputs": [
        {
          "output_type": "execute_result",
          "data": {
            "text/plain": [
              "DatetimeIndex(['2023-02-02', '2023-02-09', '2023-02-16', '2023-02-23'], dtype='datetime64[ns]', freq='W-THU')"
            ]
          },
          "metadata": {},
          "execution_count": 43
        }
      ]
    },
    {
      "cell_type": "code",
      "source": [
        "#hourly\n",
        "pd.date_range(start = '2023/2/1', end='2023/2/28', freq = 'H')"
      ],
      "metadata": {
        "colab": {
          "base_uri": "https://localhost:8080/"
        },
        "id": "Au4hSJ5ETQYM",
        "outputId": "cabd67d8-1bd7-41b9-96c6-ff75f18506fd"
      },
      "execution_count": 44,
      "outputs": [
        {
          "output_type": "execute_result",
          "data": {
            "text/plain": [
              "DatetimeIndex(['2023-02-01 00:00:00', '2023-02-01 01:00:00',\n",
              "               '2023-02-01 02:00:00', '2023-02-01 03:00:00',\n",
              "               '2023-02-01 04:00:00', '2023-02-01 05:00:00',\n",
              "               '2023-02-01 06:00:00', '2023-02-01 07:00:00',\n",
              "               '2023-02-01 08:00:00', '2023-02-01 09:00:00',\n",
              "               ...\n",
              "               '2023-02-27 15:00:00', '2023-02-27 16:00:00',\n",
              "               '2023-02-27 17:00:00', '2023-02-27 18:00:00',\n",
              "               '2023-02-27 19:00:00', '2023-02-27 20:00:00',\n",
              "               '2023-02-27 21:00:00', '2023-02-27 22:00:00',\n",
              "               '2023-02-27 23:00:00', '2023-02-28 00:00:00'],\n",
              "              dtype='datetime64[ns]', length=649, freq='H')"
            ]
          },
          "metadata": {},
          "execution_count": 44
        }
      ]
    },
    {
      "cell_type": "code",
      "source": [
        "pd.date_range(start = '2023/2/1', end='2023/2/28', freq = '6H')"
      ],
      "metadata": {
        "colab": {
          "base_uri": "https://localhost:8080/"
        },
        "id": "cPJLZYo2TdLi",
        "outputId": "a7c77869-6e97-4299-b48e-29edf345d335"
      },
      "execution_count": 45,
      "outputs": [
        {
          "output_type": "execute_result",
          "data": {
            "text/plain": [
              "DatetimeIndex(['2023-02-01 00:00:00', '2023-02-01 06:00:00',\n",
              "               '2023-02-01 12:00:00', '2023-02-01 18:00:00',\n",
              "               '2023-02-02 00:00:00', '2023-02-02 06:00:00',\n",
              "               '2023-02-02 12:00:00', '2023-02-02 18:00:00',\n",
              "               '2023-02-03 00:00:00', '2023-02-03 06:00:00',\n",
              "               ...\n",
              "               '2023-02-25 18:00:00', '2023-02-26 00:00:00',\n",
              "               '2023-02-26 06:00:00', '2023-02-26 12:00:00',\n",
              "               '2023-02-26 18:00:00', '2023-02-27 00:00:00',\n",
              "               '2023-02-27 06:00:00', '2023-02-27 12:00:00',\n",
              "               '2023-02-27 18:00:00', '2023-02-28 00:00:00'],\n",
              "              dtype='datetime64[ns]', length=109, freq='6H')"
            ]
          },
          "metadata": {},
          "execution_count": 45
        }
      ]
    },
    {
      "cell_type": "code",
      "source": [
        "pd.date_range(start = '2023/2/1', end='2023/2/28', freq = 'M')"
      ],
      "metadata": {
        "colab": {
          "base_uri": "https://localhost:8080/"
        },
        "id": "AvgJQwyOTh1r",
        "outputId": "c225f6df-1ff4-4dcb-9f72-57f9db7e692f"
      },
      "execution_count": 46,
      "outputs": [
        {
          "output_type": "execute_result",
          "data": {
            "text/plain": [
              "DatetimeIndex(['2023-02-28'], dtype='datetime64[ns]', freq='M')"
            ]
          },
          "metadata": {},
          "execution_count": 46
        }
      ]
    },
    {
      "cell_type": "code",
      "source": [
        "pd.date_range(start = '2023/2/1', end='2023/2/28', freq = 'MS')"
      ],
      "metadata": {
        "colab": {
          "base_uri": "https://localhost:8080/"
        },
        "id": "BdsKuAAqTmN1",
        "outputId": "0abef8b7-2858-4e44-d71c-2cbbd895ba5d"
      },
      "execution_count": 48,
      "outputs": [
        {
          "output_type": "execute_result",
          "data": {
            "text/plain": [
              "DatetimeIndex(['2023-02-01'], dtype='datetime64[ns]', freq='MS')"
            ]
          },
          "metadata": {},
          "execution_count": 48
        }
      ]
    },
    {
      "cell_type": "code",
      "source": [
        "pd.date_range(start = '2023/2/1', end='2023/2/28', freq = 'A')"
      ],
      "metadata": {
        "colab": {
          "base_uri": "https://localhost:8080/"
        },
        "id": "PtJg86qhTnRg",
        "outputId": "32e98e4e-b3ef-48be-9c1b-6877e4937d37"
      },
      "execution_count": 50,
      "outputs": [
        {
          "output_type": "execute_result",
          "data": {
            "text/plain": [
              "DatetimeIndex([], dtype='datetime64[ns]', freq='A-DEC')"
            ]
          },
          "metadata": {},
          "execution_count": 50
        }
      ]
    },
    {
      "cell_type": "code",
      "source": [
        "pd.date_range(start = '2023/2/1', periods=25, freq = 'D')"
      ],
      "metadata": {
        "colab": {
          "base_uri": "https://localhost:8080/"
        },
        "id": "ad_xGp7TTrbk",
        "outputId": "dbc86c09-f494-4326-b438-b01d68eb4bf8"
      },
      "execution_count": 55,
      "outputs": [
        {
          "output_type": "execute_result",
          "data": {
            "text/plain": [
              "DatetimeIndex(['2023-02-01', '2023-02-02', '2023-02-03', '2023-02-04',\n",
              "               '2023-02-05', '2023-02-06', '2023-02-07', '2023-02-08',\n",
              "               '2023-02-09', '2023-02-10', '2023-02-11', '2023-02-12',\n",
              "               '2023-02-13', '2023-02-14', '2023-02-15', '2023-02-16',\n",
              "               '2023-02-17', '2023-02-18', '2023-02-19', '2023-02-20',\n",
              "               '2023-02-21', '2023-02-22', '2023-02-23', '2023-02-24',\n",
              "               '2023-02-25'],\n",
              "              dtype='datetime64[ns]', freq='D')"
            ]
          },
          "metadata": {},
          "execution_count": 55
        }
      ]
    },
    {
      "cell_type": "code",
      "source": [
        "pd.date_range(start = '2023/2/1', periods=5, freq = '6H')"
      ],
      "metadata": {
        "colab": {
          "base_uri": "https://localhost:8080/"
        },
        "id": "QSPmlxuQTyY9",
        "outputId": "74752cec-474b-46cc-8880-5802021e7c12"
      },
      "execution_count": 57,
      "outputs": [
        {
          "output_type": "execute_result",
          "data": {
            "text/plain": [
              "DatetimeIndex(['2023-02-01 00:00:00', '2023-02-01 06:00:00',\n",
              "               '2023-02-01 12:00:00', '2023-02-01 18:00:00',\n",
              "               '2023-02-02 00:00:00'],\n",
              "              dtype='datetime64[ns]', freq='6H')"
            ]
          },
          "metadata": {},
          "execution_count": 57
        }
      ]
    },
    {
      "cell_type": "markdown",
      "source": [
        "#to_datetime function\n",
        "\n",
        "converts existing object to pandas datetime object"
      ],
      "metadata": {
        "id": "oLo_4rC7UPBQ"
      }
    },
    {
      "cell_type": "code",
      "source": [
        "#simple series\n",
        "\n",
        "s = pd.Series(['2023/1/1', '2002/1/2', '2018/3/9'])\n",
        "s"
      ],
      "metadata": {
        "colab": {
          "base_uri": "https://localhost:8080/"
        },
        "id": "UC-W2j21UGdt",
        "outputId": "31210821-c803-46bf-8e97-590bf03dafb0"
      },
      "execution_count": 59,
      "outputs": [
        {
          "output_type": "execute_result",
          "data": {
            "text/plain": [
              "0    2023/1/1\n",
              "1    2002/1/2\n",
              "2    2018/3/9\n",
              "dtype: object"
            ]
          },
          "metadata": {},
          "execution_count": 59
        }
      ]
    },
    {
      "cell_type": "code",
      "source": [
        "s = pd.to_datetime(s)\n",
        "s"
      ],
      "metadata": {
        "colab": {
          "base_uri": "https://localhost:8080/"
        },
        "id": "ZJpo0YsCUgrp",
        "outputId": "8faf5b3c-1954-412e-cbcc-33ff433053ba"
      },
      "execution_count": 61,
      "outputs": [
        {
          "output_type": "execute_result",
          "data": {
            "text/plain": [
              "0   2023-01-01\n",
              "1   2002-01-02\n",
              "2   2018-03-09\n",
              "dtype: datetime64[ns]"
            ]
          },
          "metadata": {},
          "execution_count": 61
        }
      ]
    },
    {
      "cell_type": "code",
      "source": [
        "s.dt.year"
      ],
      "metadata": {
        "colab": {
          "base_uri": "https://localhost:8080/"
        },
        "id": "v8WK_2hVUrnO",
        "outputId": "b7eeaff3-1722-40b3-89e0-34cbc44fe95f"
      },
      "execution_count": 63,
      "outputs": [
        {
          "output_type": "execute_result",
          "data": {
            "text/plain": [
              "0    2023\n",
              "1    2002\n",
              "2    2018\n",
              "dtype: int64"
            ]
          },
          "metadata": {},
          "execution_count": 63
        }
      ]
    },
    {
      "cell_type": "code",
      "source": [
        "s.dt.month"
      ],
      "metadata": {
        "colab": {
          "base_uri": "https://localhost:8080/"
        },
        "id": "coRCw5Y-UwP1",
        "outputId": "6a4115bf-ed69-4b1c-c929-0a554b044fcf"
      },
      "execution_count": 64,
      "outputs": [
        {
          "output_type": "execute_result",
          "data": {
            "text/plain": [
              "0    1\n",
              "1    1\n",
              "2    3\n",
              "dtype: int64"
            ]
          },
          "metadata": {},
          "execution_count": 64
        }
      ]
    },
    {
      "cell_type": "code",
      "source": [
        "s.dt.day_name()"
      ],
      "metadata": {
        "colab": {
          "base_uri": "https://localhost:8080/"
        },
        "id": "B0FNVOnmU1Xa",
        "outputId": "bc1552b8-9eee-4d21-e2c0-1eb6586cd56c"
      },
      "execution_count": 66,
      "outputs": [
        {
          "output_type": "execute_result",
          "data": {
            "text/plain": [
              "0       Sunday\n",
              "1    Wednesday\n",
              "2       Friday\n",
              "dtype: object"
            ]
          },
          "metadata": {},
          "execution_count": 66
        }
      ]
    },
    {
      "cell_type": "code",
      "source": [
        "#with error\n",
        "\n",
        "s = pd.Series(['2023/1/1', '2002/1/2', '2018/3070/9'])\n",
        "pd.to_datetime(s,errors='coerce').dt.year"
      ],
      "metadata": {
        "colab": {
          "base_uri": "https://localhost:8080/"
        },
        "id": "z8dwc0VcU3cb",
        "outputId": "6786afba-637f-4069-abf3-89bb023c494c"
      },
      "execution_count": 68,
      "outputs": [
        {
          "output_type": "execute_result",
          "data": {
            "text/plain": [
              "0    2023.0\n",
              "1    2002.0\n",
              "2       NaN\n",
              "dtype: float64"
            ]
          },
          "metadata": {},
          "execution_count": 68
        }
      ]
    },
    {
      "cell_type": "markdown",
      "source": [
        "#casestudy"
      ],
      "metadata": {
        "id": "wJN9CNqcdY4N"
      }
    },
    {
      "cell_type": "code",
      "source": [
        "df = pd.read_csv('/content/expense_data.csv')\n",
        "df"
      ],
      "metadata": {
        "colab": {
          "base_uri": "https://localhost:8080/",
          "height": 423
        },
        "id": "4pjJ3gyzdGfd",
        "outputId": "221ff1f6-0cac-41e0-c1db-2f28a9ef2eac"
      },
      "execution_count": 69,
      "outputs": [
        {
          "output_type": "execute_result",
          "data": {
            "text/plain": [
              "                 Date               Account        Category  Subcategory  \\\n",
              "0      3/2/2022 10:11  CUB - online payment            Food          NaN   \n",
              "1      3/2/2022 10:11  CUB - online payment           Other          NaN   \n",
              "2      3/1/2022 19:50  CUB - online payment            Food          NaN   \n",
              "3      3/1/2022 18:56  CUB - online payment  Transportation          NaN   \n",
              "4      3/1/2022 18:22  CUB - online payment            Food          NaN   \n",
              "..                ...                   ...             ...          ...   \n",
              "272  11/22/2021 14:16  CUB - online payment            Food          NaN   \n",
              "273  11/22/2021 14:16  CUB - online payment            Food          NaN   \n",
              "274  11/21/2021 17:07  CUB - online payment  Transportation          NaN   \n",
              "275  11/21/2021 15:50  CUB - online payment            Food          NaN   \n",
              "276  11/21/2021 13:30  CUB - online payment           Other          NaN   \n",
              "\n",
              "                   Note     INR Income/Expense  Note.1  Amount Currency  \\\n",
              "0               Brownie    50.0        Expense     NaN    50.0      INR   \n",
              "1      To lended people   300.0        Expense     NaN   300.0      INR   \n",
              "2                Dinner    78.0        Expense     NaN    78.0      INR   \n",
              "3                 Metro    30.0        Expense     NaN    30.0      INR   \n",
              "4                Snacks    67.0        Expense     NaN    67.0      INR   \n",
              "..                  ...     ...            ...     ...     ...      ...   \n",
              "272              Dinner    90.0        Expense     NaN    90.0      INR   \n",
              "273  Lunch with company    97.0        Expense     NaN    97.0      INR   \n",
              "274              Rapido   130.0        Expense     NaN   130.0      INR   \n",
              "275               Lunch   875.0        Expense     NaN   875.0      INR   \n",
              "276       Got from gobi  2000.0         Income     NaN  2000.0      INR   \n",
              "\n",
              "     Account.1  \n",
              "0         50.0  \n",
              "1        300.0  \n",
              "2         78.0  \n",
              "3         30.0  \n",
              "4         67.0  \n",
              "..         ...  \n",
              "272       90.0  \n",
              "273       97.0  \n",
              "274      130.0  \n",
              "275      875.0  \n",
              "276     2000.0  \n",
              "\n",
              "[277 rows x 11 columns]"
            ],
            "text/html": [
              "\n",
              "  <div id=\"df-2e1ed8b0-4727-4462-896e-b4bf2fd5edd5\">\n",
              "    <div class=\"colab-df-container\">\n",
              "      <div>\n",
              "<style scoped>\n",
              "    .dataframe tbody tr th:only-of-type {\n",
              "        vertical-align: middle;\n",
              "    }\n",
              "\n",
              "    .dataframe tbody tr th {\n",
              "        vertical-align: top;\n",
              "    }\n",
              "\n",
              "    .dataframe thead th {\n",
              "        text-align: right;\n",
              "    }\n",
              "</style>\n",
              "<table border=\"1\" class=\"dataframe\">\n",
              "  <thead>\n",
              "    <tr style=\"text-align: right;\">\n",
              "      <th></th>\n",
              "      <th>Date</th>\n",
              "      <th>Account</th>\n",
              "      <th>Category</th>\n",
              "      <th>Subcategory</th>\n",
              "      <th>Note</th>\n",
              "      <th>INR</th>\n",
              "      <th>Income/Expense</th>\n",
              "      <th>Note.1</th>\n",
              "      <th>Amount</th>\n",
              "      <th>Currency</th>\n",
              "      <th>Account.1</th>\n",
              "    </tr>\n",
              "  </thead>\n",
              "  <tbody>\n",
              "    <tr>\n",
              "      <th>0</th>\n",
              "      <td>3/2/2022 10:11</td>\n",
              "      <td>CUB - online payment</td>\n",
              "      <td>Food</td>\n",
              "      <td>NaN</td>\n",
              "      <td>Brownie</td>\n",
              "      <td>50.0</td>\n",
              "      <td>Expense</td>\n",
              "      <td>NaN</td>\n",
              "      <td>50.0</td>\n",
              "      <td>INR</td>\n",
              "      <td>50.0</td>\n",
              "    </tr>\n",
              "    <tr>\n",
              "      <th>1</th>\n",
              "      <td>3/2/2022 10:11</td>\n",
              "      <td>CUB - online payment</td>\n",
              "      <td>Other</td>\n",
              "      <td>NaN</td>\n",
              "      <td>To lended people</td>\n",
              "      <td>300.0</td>\n",
              "      <td>Expense</td>\n",
              "      <td>NaN</td>\n",
              "      <td>300.0</td>\n",
              "      <td>INR</td>\n",
              "      <td>300.0</td>\n",
              "    </tr>\n",
              "    <tr>\n",
              "      <th>2</th>\n",
              "      <td>3/1/2022 19:50</td>\n",
              "      <td>CUB - online payment</td>\n",
              "      <td>Food</td>\n",
              "      <td>NaN</td>\n",
              "      <td>Dinner</td>\n",
              "      <td>78.0</td>\n",
              "      <td>Expense</td>\n",
              "      <td>NaN</td>\n",
              "      <td>78.0</td>\n",
              "      <td>INR</td>\n",
              "      <td>78.0</td>\n",
              "    </tr>\n",
              "    <tr>\n",
              "      <th>3</th>\n",
              "      <td>3/1/2022 18:56</td>\n",
              "      <td>CUB - online payment</td>\n",
              "      <td>Transportation</td>\n",
              "      <td>NaN</td>\n",
              "      <td>Metro</td>\n",
              "      <td>30.0</td>\n",
              "      <td>Expense</td>\n",
              "      <td>NaN</td>\n",
              "      <td>30.0</td>\n",
              "      <td>INR</td>\n",
              "      <td>30.0</td>\n",
              "    </tr>\n",
              "    <tr>\n",
              "      <th>4</th>\n",
              "      <td>3/1/2022 18:22</td>\n",
              "      <td>CUB - online payment</td>\n",
              "      <td>Food</td>\n",
              "      <td>NaN</td>\n",
              "      <td>Snacks</td>\n",
              "      <td>67.0</td>\n",
              "      <td>Expense</td>\n",
              "      <td>NaN</td>\n",
              "      <td>67.0</td>\n",
              "      <td>INR</td>\n",
              "      <td>67.0</td>\n",
              "    </tr>\n",
              "    <tr>\n",
              "      <th>...</th>\n",
              "      <td>...</td>\n",
              "      <td>...</td>\n",
              "      <td>...</td>\n",
              "      <td>...</td>\n",
              "      <td>...</td>\n",
              "      <td>...</td>\n",
              "      <td>...</td>\n",
              "      <td>...</td>\n",
              "      <td>...</td>\n",
              "      <td>...</td>\n",
              "      <td>...</td>\n",
              "    </tr>\n",
              "    <tr>\n",
              "      <th>272</th>\n",
              "      <td>11/22/2021 14:16</td>\n",
              "      <td>CUB - online payment</td>\n",
              "      <td>Food</td>\n",
              "      <td>NaN</td>\n",
              "      <td>Dinner</td>\n",
              "      <td>90.0</td>\n",
              "      <td>Expense</td>\n",
              "      <td>NaN</td>\n",
              "      <td>90.0</td>\n",
              "      <td>INR</td>\n",
              "      <td>90.0</td>\n",
              "    </tr>\n",
              "    <tr>\n",
              "      <th>273</th>\n",
              "      <td>11/22/2021 14:16</td>\n",
              "      <td>CUB - online payment</td>\n",
              "      <td>Food</td>\n",
              "      <td>NaN</td>\n",
              "      <td>Lunch with company</td>\n",
              "      <td>97.0</td>\n",
              "      <td>Expense</td>\n",
              "      <td>NaN</td>\n",
              "      <td>97.0</td>\n",
              "      <td>INR</td>\n",
              "      <td>97.0</td>\n",
              "    </tr>\n",
              "    <tr>\n",
              "      <th>274</th>\n",
              "      <td>11/21/2021 17:07</td>\n",
              "      <td>CUB - online payment</td>\n",
              "      <td>Transportation</td>\n",
              "      <td>NaN</td>\n",
              "      <td>Rapido</td>\n",
              "      <td>130.0</td>\n",
              "      <td>Expense</td>\n",
              "      <td>NaN</td>\n",
              "      <td>130.0</td>\n",
              "      <td>INR</td>\n",
              "      <td>130.0</td>\n",
              "    </tr>\n",
              "    <tr>\n",
              "      <th>275</th>\n",
              "      <td>11/21/2021 15:50</td>\n",
              "      <td>CUB - online payment</td>\n",
              "      <td>Food</td>\n",
              "      <td>NaN</td>\n",
              "      <td>Lunch</td>\n",
              "      <td>875.0</td>\n",
              "      <td>Expense</td>\n",
              "      <td>NaN</td>\n",
              "      <td>875.0</td>\n",
              "      <td>INR</td>\n",
              "      <td>875.0</td>\n",
              "    </tr>\n",
              "    <tr>\n",
              "      <th>276</th>\n",
              "      <td>11/21/2021 13:30</td>\n",
              "      <td>CUB - online payment</td>\n",
              "      <td>Other</td>\n",
              "      <td>NaN</td>\n",
              "      <td>Got from gobi</td>\n",
              "      <td>2000.0</td>\n",
              "      <td>Income</td>\n",
              "      <td>NaN</td>\n",
              "      <td>2000.0</td>\n",
              "      <td>INR</td>\n",
              "      <td>2000.0</td>\n",
              "    </tr>\n",
              "  </tbody>\n",
              "</table>\n",
              "<p>277 rows × 11 columns</p>\n",
              "</div>\n",
              "      <button class=\"colab-df-convert\" onclick=\"convertToInteractive('df-2e1ed8b0-4727-4462-896e-b4bf2fd5edd5')\"\n",
              "              title=\"Convert this dataframe to an interactive table.\"\n",
              "              style=\"display:none;\">\n",
              "        \n",
              "  <svg xmlns=\"http://www.w3.org/2000/svg\" height=\"24px\"viewBox=\"0 0 24 24\"\n",
              "       width=\"24px\">\n",
              "    <path d=\"M0 0h24v24H0V0z\" fill=\"none\"/>\n",
              "    <path d=\"M18.56 5.44l.94 2.06.94-2.06 2.06-.94-2.06-.94-.94-2.06-.94 2.06-2.06.94zm-11 1L8.5 8.5l.94-2.06 2.06-.94-2.06-.94L8.5 2.5l-.94 2.06-2.06.94zm10 10l.94 2.06.94-2.06 2.06-.94-2.06-.94-.94-2.06-.94 2.06-2.06.94z\"/><path d=\"M17.41 7.96l-1.37-1.37c-.4-.4-.92-.59-1.43-.59-.52 0-1.04.2-1.43.59L10.3 9.45l-7.72 7.72c-.78.78-.78 2.05 0 2.83L4 21.41c.39.39.9.59 1.41.59.51 0 1.02-.2 1.41-.59l7.78-7.78 2.81-2.81c.8-.78.8-2.07 0-2.86zM5.41 20L4 18.59l7.72-7.72 1.47 1.35L5.41 20z\"/>\n",
              "  </svg>\n",
              "      </button>\n",
              "      \n",
              "  <style>\n",
              "    .colab-df-container {\n",
              "      display:flex;\n",
              "      flex-wrap:wrap;\n",
              "      gap: 12px;\n",
              "    }\n",
              "\n",
              "    .colab-df-convert {\n",
              "      background-color: #E8F0FE;\n",
              "      border: none;\n",
              "      border-radius: 50%;\n",
              "      cursor: pointer;\n",
              "      display: none;\n",
              "      fill: #1967D2;\n",
              "      height: 32px;\n",
              "      padding: 0 0 0 0;\n",
              "      width: 32px;\n",
              "    }\n",
              "\n",
              "    .colab-df-convert:hover {\n",
              "      background-color: #E2EBFA;\n",
              "      box-shadow: 0px 1px 2px rgba(60, 64, 67, 0.3), 0px 1px 3px 1px rgba(60, 64, 67, 0.15);\n",
              "      fill: #174EA6;\n",
              "    }\n",
              "\n",
              "    [theme=dark] .colab-df-convert {\n",
              "      background-color: #3B4455;\n",
              "      fill: #D2E3FC;\n",
              "    }\n",
              "\n",
              "    [theme=dark] .colab-df-convert:hover {\n",
              "      background-color: #434B5C;\n",
              "      box-shadow: 0px 1px 3px 1px rgba(0, 0, 0, 0.15);\n",
              "      filter: drop-shadow(0px 1px 2px rgba(0, 0, 0, 0.3));\n",
              "      fill: #FFFFFF;\n",
              "    }\n",
              "  </style>\n",
              "\n",
              "      <script>\n",
              "        const buttonEl =\n",
              "          document.querySelector('#df-2e1ed8b0-4727-4462-896e-b4bf2fd5edd5 button.colab-df-convert');\n",
              "        buttonEl.style.display =\n",
              "          google.colab.kernel.accessAllowed ? 'block' : 'none';\n",
              "\n",
              "        async function convertToInteractive(key) {\n",
              "          const element = document.querySelector('#df-2e1ed8b0-4727-4462-896e-b4bf2fd5edd5');\n",
              "          const dataTable =\n",
              "            await google.colab.kernel.invokeFunction('convertToInteractive',\n",
              "                                                     [key], {});\n",
              "          if (!dataTable) return;\n",
              "\n",
              "          const docLinkHtml = 'Like what you see? Visit the ' +\n",
              "            '<a target=\"_blank\" href=https://colab.research.google.com/notebooks/data_table.ipynb>data table notebook</a>'\n",
              "            + ' to learn more about interactive tables.';\n",
              "          element.innerHTML = '';\n",
              "          dataTable['output_type'] = 'display_data';\n",
              "          await google.colab.output.renderOutput(dataTable, element);\n",
              "          const docLink = document.createElement('div');\n",
              "          docLink.innerHTML = docLinkHtml;\n",
              "          element.appendChild(docLink);\n",
              "        }\n",
              "      </script>\n",
              "    </div>\n",
              "  </div>\n",
              "  "
            ]
          },
          "metadata": {},
          "execution_count": 69
        }
      ]
    },
    {
      "cell_type": "code",
      "source": [
        "df.shape"
      ],
      "metadata": {
        "colab": {
          "base_uri": "https://localhost:8080/"
        },
        "id": "lSIOVxeXdf5R",
        "outputId": "fe4872d6-d7ba-42f6-9528-f32925d564d5"
      },
      "execution_count": 70,
      "outputs": [
        {
          "output_type": "execute_result",
          "data": {
            "text/plain": [
              "(277, 11)"
            ]
          },
          "metadata": {},
          "execution_count": 70
        }
      ]
    },
    {
      "cell_type": "code",
      "source": [
        "df.info()"
      ],
      "metadata": {
        "colab": {
          "base_uri": "https://localhost:8080/"
        },
        "id": "nxiLZ8LSdjeW",
        "outputId": "429aff0d-fbe3-45d9-9f02-965051b08f89"
      },
      "execution_count": 71,
      "outputs": [
        {
          "output_type": "stream",
          "name": "stdout",
          "text": [
            "<class 'pandas.core.frame.DataFrame'>\n",
            "RangeIndex: 277 entries, 0 to 276\n",
            "Data columns (total 11 columns):\n",
            " #   Column          Non-Null Count  Dtype  \n",
            "---  ------          --------------  -----  \n",
            " 0   Date            277 non-null    object \n",
            " 1   Account         277 non-null    object \n",
            " 2   Category        277 non-null    object \n",
            " 3   Subcategory     0 non-null      float64\n",
            " 4   Note            273 non-null    object \n",
            " 5   INR             277 non-null    float64\n",
            " 6   Income/Expense  277 non-null    object \n",
            " 7   Note.1          0 non-null      float64\n",
            " 8   Amount          277 non-null    float64\n",
            " 9   Currency        277 non-null    object \n",
            " 10  Account.1       277 non-null    float64\n",
            "dtypes: float64(5), object(6)\n",
            "memory usage: 23.9+ KB\n"
          ]
        }
      ]
    },
    {
      "cell_type": "code",
      "source": [
        "df['Date'] = pd.to_datetime(df['Date'])\n",
        "df.info()"
      ],
      "metadata": {
        "colab": {
          "base_uri": "https://localhost:8080/"
        },
        "id": "wzSgAhnKdoz6",
        "outputId": "a1b77acc-3a43-466b-d4d0-d739fcaa16d3"
      },
      "execution_count": 73,
      "outputs": [
        {
          "output_type": "stream",
          "name": "stdout",
          "text": [
            "<class 'pandas.core.frame.DataFrame'>\n",
            "RangeIndex: 277 entries, 0 to 276\n",
            "Data columns (total 11 columns):\n",
            " #   Column          Non-Null Count  Dtype         \n",
            "---  ------          --------------  -----         \n",
            " 0   Date            277 non-null    datetime64[ns]\n",
            " 1   Account         277 non-null    object        \n",
            " 2   Category        277 non-null    object        \n",
            " 3   Subcategory     0 non-null      float64       \n",
            " 4   Note            273 non-null    object        \n",
            " 5   INR             277 non-null    float64       \n",
            " 6   Income/Expense  277 non-null    object        \n",
            " 7   Note.1          0 non-null      float64       \n",
            " 8   Amount          277 non-null    float64       \n",
            " 9   Currency        277 non-null    object        \n",
            " 10  Account.1       277 non-null    float64       \n",
            "dtypes: datetime64[ns](1), float64(5), object(5)\n",
            "memory usage: 23.9+ KB\n"
          ]
        }
      ]
    },
    {
      "cell_type": "markdown",
      "source": [
        "##dt accessor"
      ],
      "metadata": {
        "id": "30UGj0mHd2pp"
      }
    },
    {
      "cell_type": "code",
      "source": [
        "df['Date'].dt.year"
      ],
      "metadata": {
        "colab": {
          "base_uri": "https://localhost:8080/"
        },
        "id": "FY95aWX8dt-X",
        "outputId": "21f7b3cd-12bf-47a0-9cfa-ab4ae9d7c0c0"
      },
      "execution_count": 74,
      "outputs": [
        {
          "output_type": "execute_result",
          "data": {
            "text/plain": [
              "0      2022\n",
              "1      2022\n",
              "2      2022\n",
              "3      2022\n",
              "4      2022\n",
              "       ... \n",
              "272    2021\n",
              "273    2021\n",
              "274    2021\n",
              "275    2021\n",
              "276    2021\n",
              "Name: Date, Length: 277, dtype: int64"
            ]
          },
          "metadata": {},
          "execution_count": 74
        }
      ]
    },
    {
      "cell_type": "code",
      "source": [
        "df['Date'].dt.day_name()"
      ],
      "metadata": {
        "colab": {
          "base_uri": "https://localhost:8080/"
        },
        "id": "K5mA3JQOd7c0",
        "outputId": "091382e4-061f-45e1-e68d-c7fcc31adfbd"
      },
      "execution_count": 75,
      "outputs": [
        {
          "output_type": "execute_result",
          "data": {
            "text/plain": [
              "0      Wednesday\n",
              "1      Wednesday\n",
              "2        Tuesday\n",
              "3        Tuesday\n",
              "4        Tuesday\n",
              "         ...    \n",
              "272       Monday\n",
              "273       Monday\n",
              "274       Sunday\n",
              "275       Sunday\n",
              "276       Sunday\n",
              "Name: Date, Length: 277, dtype: object"
            ]
          },
          "metadata": {},
          "execution_count": 75
        }
      ]
    },
    {
      "cell_type": "code",
      "source": [
        "df['Date'].dt.is_month_end"
      ],
      "metadata": {
        "colab": {
          "base_uri": "https://localhost:8080/"
        },
        "id": "_axZjgamd_Bj",
        "outputId": "20417147-edc8-4997-8d9e-fa0a7a52b8ae"
      },
      "execution_count": 79,
      "outputs": [
        {
          "output_type": "execute_result",
          "data": {
            "text/plain": [
              "0      False\n",
              "1      False\n",
              "2      False\n",
              "3      False\n",
              "4      False\n",
              "       ...  \n",
              "272    False\n",
              "273    False\n",
              "274    False\n",
              "275    False\n",
              "276    False\n",
              "Name: Date, Length: 277, dtype: bool"
            ]
          },
          "metadata": {},
          "execution_count": 79
        }
      ]
    },
    {
      "cell_type": "code",
      "source": [
        "df['Date'].dt.is_quarter_end"
      ],
      "metadata": {
        "colab": {
          "base_uri": "https://localhost:8080/"
        },
        "id": "uLf6Kvh5eHVw",
        "outputId": "d0f1f9ff-d32b-4cff-c1ae-ae7bf334613f"
      },
      "execution_count": 80,
      "outputs": [
        {
          "output_type": "execute_result",
          "data": {
            "text/plain": [
              "0      False\n",
              "1      False\n",
              "2      False\n",
              "3      False\n",
              "4      False\n",
              "       ...  \n",
              "272    False\n",
              "273    False\n",
              "274    False\n",
              "275    False\n",
              "276    False\n",
              "Name: Date, Length: 277, dtype: bool"
            ]
          },
          "metadata": {},
          "execution_count": 80
        }
      ]
    },
    {
      "cell_type": "code",
      "source": [
        "df['Date'].dt.is_quarter_start"
      ],
      "metadata": {
        "colab": {
          "base_uri": "https://localhost:8080/"
        },
        "id": "Eoor2rY5eQQx",
        "outputId": "809faab3-69a3-436b-81f0-5c4593001dd4"
      },
      "execution_count": 81,
      "outputs": [
        {
          "output_type": "execute_result",
          "data": {
            "text/plain": [
              "0      False\n",
              "1      False\n",
              "2      False\n",
              "3      False\n",
              "4      False\n",
              "       ...  \n",
              "272    False\n",
              "273    False\n",
              "274    False\n",
              "275    False\n",
              "276    False\n",
              "Name: Date, Length: 277, dtype: bool"
            ]
          },
          "metadata": {},
          "execution_count": 81
        }
      ]
    },
    {
      "cell_type": "code",
      "source": [
        "#how he spent\n",
        "import matplotlib.pyplot as plt\n",
        "\n",
        "plt.plot(df['Date'], df['INR'])"
      ],
      "metadata": {
        "colab": {
          "base_uri": "https://localhost:8080/",
          "height": 448
        },
        "id": "ZKCnesgUeTZ_",
        "outputId": "056fb092-1fd9-4361-b84f-393acea994be"
      },
      "execution_count": 83,
      "outputs": [
        {
          "output_type": "execute_result",
          "data": {
            "text/plain": [
              "[<matplotlib.lines.Line2D at 0x7f83586dffa0>]"
            ]
          },
          "metadata": {},
          "execution_count": 83
        },
        {
          "output_type": "display_data",
          "data": {
            "text/plain": [
              "<Figure size 640x480 with 1 Axes>"
            ],
            "image/png": "[encoded data removed]"
          },
          "metadata": {}
        }
      ]
    },
    {
      "cell_type": "code",
      "source": [
        "#day wise & month wise bar chart\n",
        "\n",
        "df['day_name'] = df['Date'].dt.day_name()\n",
        "df"
      ],
      "metadata": {
        "colab": {
          "base_uri": "https://localhost:8080/",
          "height": 641
        },
        "id": "GTwZzItqeXWl",
        "outputId": "434dd249-7271-4c7e-a285-f3802da47d55"
      },
      "execution_count": 89,
      "outputs": [
        {
          "output_type": "execute_result",
          "data": {
            "text/plain": [
              "                   Date               Account        Category  Subcategory  \\\n",
              "0   2022-03-02 10:11:00  CUB - online payment            Food          NaN   \n",
              "1   2022-03-02 10:11:00  CUB - online payment           Other          NaN   \n",
              "2   2022-03-01 19:50:00  CUB - online payment            Food          NaN   \n",
              "3   2022-03-01 18:56:00  CUB - online payment  Transportation          NaN   \n",
              "4   2022-03-01 18:22:00  CUB - online payment            Food          NaN   \n",
              "..                  ...                   ...             ...          ...   \n",
              "272 2021-11-22 14:16:00  CUB - online payment            Food          NaN   \n",
              "273 2021-11-22 14:16:00  CUB - online payment            Food          NaN   \n",
              "274 2021-11-21 17:07:00  CUB - online payment  Transportation          NaN   \n",
              "275 2021-11-21 15:50:00  CUB - online payment            Food          NaN   \n",
              "276 2021-11-21 13:30:00  CUB - online payment           Other          NaN   \n",
              "\n",
              "                   Note     INR Income/Expense  Note.1  Amount Currency  \\\n",
              "0               Brownie    50.0        Expense     NaN    50.0      INR   \n",
              "1      To lended people   300.0        Expense     NaN   300.0      INR   \n",
              "2                Dinner    78.0        Expense     NaN    78.0      INR   \n",
              "3                 Metro    30.0        Expense     NaN    30.0      INR   \n",
              "4                Snacks    67.0        Expense     NaN    67.0      INR   \n",
              "..                  ...     ...            ...     ...     ...      ...   \n",
              "272              Dinner    90.0        Expense     NaN    90.0      INR   \n",
              "273  Lunch with company    97.0        Expense     NaN    97.0      INR   \n",
              "274              Rapido   130.0        Expense     NaN   130.0      INR   \n",
              "275               Lunch   875.0        Expense     NaN   875.0      INR   \n",
              "276       Got from gobi  2000.0         Income     NaN  2000.0      INR   \n",
              "\n",
              "     Account.1   day_name  \n",
              "0         50.0  Wednesday  \n",
              "1        300.0  Wednesday  \n",
              "2         78.0    Tuesday  \n",
              "3         30.0    Tuesday  \n",
              "4         67.0    Tuesday  \n",
              "..         ...        ...  \n",
              "272       90.0     Monday  \n",
              "273       97.0     Monday  \n",
              "274      130.0     Sunday  \n",
              "275      875.0     Sunday  \n",
              "276     2000.0     Sunday  \n",
              "\n",
              "[277 rows x 12 columns]"
            ],
            "text/html": [
              "\n",
              "  <div id=\"df-73c4d243-cbd0-46f1-9acd-a6bf269f5b9d\">\n",
              "    <div class=\"colab-df-container\">\n",
              "      <div>\n",
              "<style scoped>\n",
              "    .dataframe tbody tr th:only-of-type {\n",
              "        vertical-align: middle;\n",
              "    }\n",
              "\n",
              "    .dataframe tbody tr th {\n",
              "        vertical-align: top;\n",
              "    }\n",
              "\n",
              "    .dataframe thead th {\n",
              "        text-align: right;\n",
              "    }\n",
              "</style>\n",
              "<table border=\"1\" class=\"dataframe\">\n",
              "  <thead>\n",
              "    <tr style=\"text-align: right;\">\n",
              "      <th></th>\n",
              "      <th>Date</th>\n",
              "      <th>Account</th>\n",
              "      <th>Category</th>\n",
              "      <th>Subcategory</th>\n",
              "      <th>Note</th>\n",
              "      <th>INR</th>\n",
              "      <th>Income/Expense</th>\n",
              "      <th>Note.1</th>\n",
              "      <th>Amount</th>\n",
              "      <th>Currency</th>\n",
              "      <th>Account.1</th>\n",
              "      <th>day_name</th>\n",
              "    </tr>\n",
              "  </thead>\n",
              "  <tbody>\n",
              "    <tr>\n",
              "      <th>0</th>\n",
              "      <td>2022-03-02 10:11:00</td>\n",
              "      <td>CUB - online payment</td>\n",
              "      <td>Food</td>\n",
              "      <td>NaN</td>\n",
              "      <td>Brownie</td>\n",
              "      <td>50.0</td>\n",
              "      <td>Expense</td>\n",
              "      <td>NaN</td>\n",
              "      <td>50.0</td>\n",
              "      <td>INR</td>\n",
              "      <td>50.0</td>\n",
              "      <td>Wednesday</td>\n",
              "    </tr>\n",
              "    <tr>\n",
              "      <th>1</th>\n",
              "      <td>2022-03-02 10:11:00</td>\n",
              "      <td>CUB - online payment</td>\n",
              "      <td>Other</td>\n",
              "      <td>NaN</td>\n",
              "      <td>To lended people</td>\n",
              "      <td>300.0</td>\n",
              "      <td>Expense</td>\n",
              "      <td>NaN</td>\n",
              "      <td>300.0</td>\n",
              "      <td>INR</td>\n",
              "      <td>300.0</td>\n",
              "      <td>Wednesday</td>\n",
              "    </tr>\n",
              "    <tr>\n",
              "      <th>2</th>\n",
              "      <td>2022-03-01 19:50:00</td>\n",
              "      <td>CUB - online payment</td>\n",
              "      <td>Food</td>\n",
              "      <td>NaN</td>\n",
              "      <td>Dinner</td>\n",
              "      <td>78.0</td>\n",
              "      <td>Expense</td>\n",
              "      <td>NaN</td>\n",
              "      <td>78.0</td>\n",
              "      <td>INR</td>\n",
              "      <td>78.0</td>\n",
              "      <td>Tuesday</td>\n",
              "    </tr>\n",
              "    <tr>\n",
              "      <th>3</th>\n",
              "      <td>2022-03-01 18:56:00</td>\n",
              "      <td>CUB - online payment</td>\n",
              "      <td>Transportation</td>\n",
              "      <td>NaN</td>\n",
              "      <td>Metro</td>\n",
              "      <td>30.0</td>\n",
              "      <td>Expense</td>\n",
              "      <td>NaN</td>\n",
              "      <td>30.0</td>\n",
              "      <td>INR</td>\n",
              "      <td>30.0</td>\n",
              "      <td>Tuesday</td>\n",
              "    </tr>\n",
              "    <tr>\n",
              "      <th>4</th>\n",
              "      <td>2022-03-01 18:22:00</td>\n",
              "      <td>CUB - online payment</td>\n",
              "      <td>Food</td>\n",
              "      <td>NaN</td>\n",
              "      <td>Snacks</td>\n",
              "      <td>67.0</td>\n",
              "      <td>Expense</td>\n",
              "      <td>NaN</td>\n",
              "      <td>67.0</td>\n",
              "      <td>INR</td>\n",
              "      <td>67.0</td>\n",
              "      <td>Tuesday</td>\n",
              "    </tr>\n",
              "    <tr>\n",
              "      <th>...</th>\n",
              "      <td>...</td>\n",
              "      <td>...</td>\n",
              "      <td>...</td>\n",
              "      <td>...</td>\n",
              "      <td>...</td>\n",
              "      <td>...</td>\n",
              "      <td>...</td>\n",
              "      <td>...</td>\n",
              "      <td>...</td>\n",
              "      <td>...</td>\n",
              "      <td>...</td>\n",
              "      <td>...</td>\n",
              "    </tr>\n",
              "    <tr>\n",
              "      <th>272</th>\n",
              "      <td>2021-11-22 14:16:00</td>\n",
              "      <td>CUB - online payment</td>\n",
              "      <td>Food</td>\n",
              "      <td>NaN</td>\n",
              "      <td>Dinner</td>\n",
              "      <td>90.0</td>\n",
              "      <td>Expense</td>\n",
              "      <td>NaN</td>\n",
              "      <td>90.0</td>\n",
              "      <td>INR</td>\n",
              "      <td>90.0</td>\n",
              "      <td>Monday</td>\n",
              "    </tr>\n",
              "    <tr>\n",
              "      <th>273</th>\n",
              "      <td>2021-11-22 14:16:00</td>\n",
              "      <td>CUB - online payment</td>\n",
              "      <td>Food</td>\n",
              "      <td>NaN</td>\n",
              "      <td>Lunch with company</td>\n",
              "      <td>97.0</td>\n",
              "      <td>Expense</td>\n",
              "      <td>NaN</td>\n",
              "      <td>97.0</td>\n",
              "      <td>INR</td>\n",
              "      <td>97.0</td>\n",
              "      <td>Monday</td>\n",
              "    </tr>\n",
              "    <tr>\n",
              "      <th>274</th>\n",
              "      <td>2021-11-21 17:07:00</td>\n",
              "      <td>CUB - online payment</td>\n",
              "      <td>Transportation</td>\n",
              "      <td>NaN</td>\n",
              "      <td>Rapido</td>\n",
              "      <td>130.0</td>\n",
              "      <td>Expense</td>\n",
              "      <td>NaN</td>\n",
              "      <td>130.0</td>\n",
              "      <td>INR</td>\n",
              "      <td>130.0</td>\n",
              "      <td>Sunday</td>\n",
              "    </tr>\n",
              "    <tr>\n",
              "      <th>275</th>\n",
              "      <td>2021-11-21 15:50:00</td>\n",
              "      <td>CUB - online payment</td>\n",
              "      <td>Food</td>\n",
              "      <td>NaN</td>\n",
              "      <td>Lunch</td>\n",
              "      <td>875.0</td>\n",
              "      <td>Expense</td>\n",
              "      <td>NaN</td>\n",
              "      <td>875.0</td>\n",
              "      <td>INR</td>\n",
              "      <td>875.0</td>\n",
              "      <td>Sunday</td>\n",
              "    </tr>\n",
              "    <tr>\n",
              "      <th>276</th>\n",
              "      <td>2021-11-21 13:30:00</td>\n",
              "      <td>CUB - online payment</td>\n",
              "      <td>Other</td>\n",
              "      <td>NaN</td>\n",
              "      <td>Got from gobi</td>\n",
              "      <td>2000.0</td>\n",
              "      <td>Income</td>\n",
              "      <td>NaN</td>\n",
              "      <td>2000.0</td>\n",
              "      <td>INR</td>\n",
              "      <td>2000.0</td>\n",
              "      <td>Sunday</td>\n",
              "    </tr>\n",
              "  </tbody>\n",
              "</table>\n",
              "<p>277 rows × 12 columns</p>\n",
              "</div>\n",
              "      <button class=\"colab-df-convert\" onclick=\"convertToInteractive('df-73c4d243-cbd0-46f1-9acd-a6bf269f5b9d')\"\n",
              "              title=\"Convert this dataframe to an interactive table.\"\n",
              "              style=\"display:none;\">\n",
              "        \n",
              "  <svg xmlns=\"http://www.w3.org/2000/svg\" height=\"24px\"viewBox=\"0 0 24 24\"\n",
              "       width=\"24px\">\n",
              "    <path d=\"M0 0h24v24H0V0z\" fill=\"none\"/>\n",
              "    <path d=\"M18.56 5.44l.94 2.06.94-2.06 2.06-.94-2.06-.94-.94-2.06-.94 2.06-2.06.94zm-11 1L8.5 8.5l.94-2.06 2.06-.94-2.06-.94L8.5 2.5l-.94 2.06-2.06.94zm10 10l.94 2.06.94-2.06 2.06-.94-2.06-.94-.94-2.06-.94 2.06-2.06.94z\"/><path d=\"M17.41 7.96l-1.37-1.37c-.4-.4-.92-.59-1.43-.59-.52 0-1.04.2-1.43.59L10.3 9.45l-7.72 7.72c-.78.78-.78 2.05 0 2.83L4 21.41c.39.39.9.59 1.41.59.51 0 1.02-.2 1.41-.59l7.78-7.78 2.81-2.81c.8-.78.8-2.07 0-2.86zM5.41 20L4 18.59l7.72-7.72 1.47 1.35L5.41 20z\"/>\n",
              "  </svg>\n",
              "      </button>\n",
              "      \n",
              "  <style>\n",
              "    .colab-df-container {\n",
              "      display:flex;\n",
              "      flex-wrap:wrap;\n",
              "      gap: 12px;\n",
              "    }\n",
              "\n",
              "    .colab-df-convert {\n",
              "      background-color: #E8F0FE;\n",
              "      border: none;\n",
              "      border-radius: 50%;\n",
              "      cursor: pointer;\n",
              "      display: none;\n",
              "      fill: #1967D2;\n",
              "      height: 32px;\n",
              "      padding: 0 0 0 0;\n",
              "      width: 32px;\n",
              "    }\n",
              "\n",
              "    .colab-df-convert:hover {\n",
              "      background-color: #E2EBFA;\n",
              "      box-shadow: 0px 1px 2px rgba(60, 64, 67, 0.3), 0px 1px 3px 1px rgba(60, 64, 67, 0.15);\n",
              "      fill: #174EA6;\n",
              "    }\n",
              "\n",
              "    [theme=dark] .colab-df-convert {\n",
              "      background-color: #3B4455;\n",
              "      fill: #D2E3FC;\n",
              "    }\n",
              "\n",
              "    [theme=dark] .colab-df-convert:hover {\n",
              "      background-color: #434B5C;\n",
              "      box-shadow: 0px 1px 3px 1px rgba(0, 0, 0, 0.15);\n",
              "      filter: drop-shadow(0px 1px 2px rgba(0, 0, 0, 0.3));\n",
              "      fill: #FFFFFF;\n",
              "    }\n",
              "  </style>\n",
              "\n",
              "      <script>\n",
              "        const buttonEl =\n",
              "          document.querySelector('#df-73c4d243-cbd0-46f1-9acd-a6bf269f5b9d button.colab-df-convert');\n",
              "        buttonEl.style.display =\n",
              "          google.colab.kernel.accessAllowed ? 'block' : 'none';\n",
              "\n",
              "        async function convertToInteractive(key) {\n",
              "          const element = document.querySelector('#df-73c4d243-cbd0-46f1-9acd-a6bf269f5b9d');\n",
              "          const dataTable =\n",
              "            await google.colab.kernel.invokeFunction('convertToInteractive',\n",
              "                                                     [key], {});\n",
              "          if (!dataTable) return;\n",
              "\n",
              "          const docLinkHtml = 'Like what you see? Visit the ' +\n",
              "            '<a target=\"_blank\" href=https://colab.research.google.com/notebooks/data_table.ipynb>data table notebook</a>'\n",
              "            + ' to learn more about interactive tables.';\n",
              "          element.innerHTML = '';\n",
              "          dataTable['output_type'] = 'display_data';\n",
              "          await google.colab.output.renderOutput(dataTable, element);\n",
              "          const docLink = document.createElement('div');\n",
              "          docLink.innerHTML = docLinkHtml;\n",
              "          element.appendChild(docLink);\n",
              "        }\n",
              "      </script>\n",
              "    </div>\n",
              "  </div>\n",
              "  "
            ]
          },
          "metadata": {},
          "execution_count": 89
        }
      ]
    },
    {
      "cell_type": "code",
      "source": [
        "df.groupby('day_name')['INR'].sum().plot(kind='bar')"
      ],
      "metadata": {
        "colab": {
          "base_uri": "https://localhost:8080/",
          "height": 534
        },
        "id": "XklVkht-ereP",
        "outputId": "9ff4c270-4942-4054-cd6b-13cda83f0d48"
      },
      "execution_count": 95,
      "outputs": [
        {
          "output_type": "execute_result",
          "data": {
            "text/plain": [
              "<Axes: xlabel='day_name'>"
            ]
          },
          "metadata": {},
          "execution_count": 95
        },
        {
          "output_type": "display_data",
          "data": {
            "text/plain": [
              "<Figure size 640x480 with 1 Axes>"
            ],
            "image/png": "[encoded data removed]"
          },
          "metadata": {}
        }
      ]
    },
    {
      "cell_type": "code",
      "source": [
        "#month wise\n",
        "\n",
        "df['month_name'] = df['Date'].dt.month_name()\n",
        "df.groupby('month_name')['INR'].mean().plot(kind='bar')"
      ],
      "metadata": {
        "colab": {
          "base_uri": "https://localhost:8080/",
          "height": 531
        },
        "id": "KM0U5_G0e9WN",
        "outputId": "9f2c9623-df14-44fa-f4e0-14d96d44259e"
      },
      "execution_count": 97,
      "outputs": [
        {
          "output_type": "execute_result",
          "data": {
            "text/plain": [
              "<Axes: xlabel='month_name'>"
            ]
          },
          "metadata": {},
          "execution_count": 97
        },
        {
          "output_type": "display_data",
          "data": {
            "text/plain": [
              "<Figure size 640x480 with 1 Axes>"
            ],
            "image/png": "[encoded data removed]"
          },
          "metadata": {}
        }
      ]
    },
    {
      "cell_type": "code",
      "source": [
        "df[df['Date'].dt.is_month_end].groupby('Date')['INR'].sum()"
      ],
      "metadata": {
        "colab": {
          "base_uri": "https://localhost:8080/"
        },
        "id": "HrLGzyLbfjDQ",
        "outputId": "ca0f961c-d0ac-44a0-ce37-ffd35b3faa90"
      },
      "execution_count": 107,
      "outputs": [
        {
          "output_type": "execute_result",
          "data": {
            "text/plain": [
              "Date\n",
              "2021-11-30 10:11:00     70.00\n",
              "2021-11-30 14:17:00    128.00\n",
              "2021-11-30 14:24:00    115.00\n",
              "2022-01-31 08:26:00    153.00\n",
              "2022-01-31 08:27:00    200.00\n",
              "2022-01-31 08:44:00     50.00\n",
              "2022-02-28 11:45:00    200.00\n",
              "2022-02-28 11:56:00    339.15\n",
              "Name: INR, dtype: float64"
            ]
          },
          "metadata": {},
          "execution_count": 107
        }
      ]
    },
    {
      "cell_type": "code",
      "source": [],
      "metadata": {
        "id": "Ty1IKszef7XT"
      },
      "execution_count": null,
      "outputs": []
    }
  ]
}